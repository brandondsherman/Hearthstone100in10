{
 "cells": [
  {
   "cell_type": "markdown",
   "metadata": {},
   "source": [
    "# 100x10 Hearthstone Arena Challenge\n",
    "### The rules:\n",
    "In 10 arena runs in a row get 100 wins. You cannot pick a hero you played before unless all three choices are heroes you've played before."
   ]
  },
  {
   "cell_type": "markdown",
   "metadata": {},
   "source": [
    "The popular Hearthstone streamer, Hafu, is the closest person to completing this challenge at 96 wins. I'll use statistics from her stream for my simulation."
   ]
  },
  {
   "cell_type": "code",
   "execution_count": 137,
   "metadata": {
    "collapsed": false
   },
   "outputs": [],
   "source": [
    "#class name, mean, standard deviation\n",
    "probs <- array(c(\"Paladin\",8.33,2.5,\"Rogue\",8.15,3.22,\"Mage\",7.86,2.59,\n",
    "                 \"Druid\",7.84,3.02,\"Priest\",7.26,2.65,\"Warlock\",6.82,3.15,\n",
    "                 \"Warrior\",6.77,2.83,\"Hunter\",6.74,2.81,\"Shaman\",6.64,2.61),c(3,9))\n",
    "\n",
    "# stats from here https://docs.google.com/spreadsheets/d/1jck4WkEvaKWE0Iw9RrttLHoFO3KEMG6In6XS1okzmx4/edit#gid=1077822399"
   ]
  },
  {
   "cell_type": "markdown",
   "metadata": {},
   "source": [
    "I'm going to assume that the distribution is normal. It very likely could not be normal, but I don't konw."
   ]
  },
  {
   "cell_type": "code",
   "execution_count": 138,
   "metadata": {
    "collapsed": true
   },
   "outputs": [],
   "source": [
    "#The code to generate the 10 games for one attempt at the challenge\n",
    "sim <- function(fun){\n",
    "  classes <- 1:9\n",
    "  playedClasses <- NULL\n",
    "  run <- array(0,c(2,11)) # an array to put the results of the run into\n",
    "  choices <- sample(9,3) # gets 3 classes to choose from\n",
    "  chosen <- fun(choices, run) # selects the 1 class from the 3 chosen\n",
    "  playedClasses[1] <- chosen # adds this class to a list that keeps track of the classes played\n",
    "  run[1,1] = probs[1,chosen] # puts the class name into the run array\n",
    "  # A random number generated from a normal distribution using the classes mean and standard diviation.\n",
    "  wins = floor(rnorm(1,mean = as.double(probs[2,chosen]),sd = as.double(probs[3,chosen])))\n",
    "  if(wins > 12) wins = 12 # lowers the number to 12 if it goes above it\n",
    "  run[2,1] <- wins # puts the number of wins in the results array\n",
    "  for(i in 2:10){ # the second to tenth runs\n",
    "    choices <- sample(9,3) # gets 3 classes to choose from\n",
    "    # gets a list of classes that are from the 3 to choose from and classes already played\n",
    "    temp <- intersect(choices, playedClasses) \n",
    "    # if all three arent the same then it uses the ones from the original list that havent been played\n",
    "    if(length(temp) != 3) choices = setdiff(choices,temp) \n",
    "    # chooses 1 class from the ones that are allowed\n",
    "    chosen <- fun(choices, run)\n",
    "    run[1,i] = probs[1,chosen]\n",
    "    wins <- floor(rnorm(1,mean = as.double(probs[2,chosen]),sd = as.double(probs[3,chosen])))\n",
    "    if(wins > 12) wins = 12\n",
    "    run[2,i] <- wins\n",
    "    playedClasses[i] <- chosen\n",
    "  }\n",
    "  # hack fix because streamer will only choose to start run on 12 wins.\n",
    "  run[2,1] = \"12\"\n",
    "  # add total wins to results array\n",
    "  run[1,11] <- \"total\"\n",
    "  run[2,11] <- sum(as.double(run[2,]))\n",
    "  run\n",
    "}"
   ]
  },
  {
   "cell_type": "code",
   "execution_count": 139,
   "metadata": {
    "collapsed": true
   },
   "outputs": [],
   "source": [
    "# strategy functions i'll use to determine the selection\n",
    "\n",
    "selectBadFirst <- function(choices, run){\n",
    "    if(length(choices)==1){\n",
    "        return(choices[1])\n",
    "    }\n",
    "\n",
    "    #if first game, pick worst class\n",
    "    if(run[2,1] == 0){\n",
    "        return(max(choices))\n",
    "    }else {\n",
    "        return(min(choices))\n",
    "    }\n",
    "}\n",
    "\n",
    "selectBestAlways <- function(choices, run){\n",
    "\n",
    "    return(min(choices))\n",
    "}"
   ]
  },
  {
   "cell_type": "code",
   "execution_count": 140,
   "metadata": {
    "collapsed": false
   },
   "outputs": [],
   "source": [
    "# find first n successful runs with selecting the best class always\n",
    "classlevels.allRuns <- 0\n",
    "totalAttempts <- 0\n",
    "n = 5000\n",
    "for(j in 1:n){\n",
    "    win = TRUE\n",
    "    run <- NULL\n",
    "    count = 0\n",
    "    \n",
    "    while(win){\n",
    "      run <- sim(selectBestAlways)\n",
    "      count = count + 1\n",
    "      if(as.numeric(run[2,11]) >= 100){\n",
    "        classLevelsTotal <- NULL\n",
    "        classLevels <- NULL\n",
    "        for(i in 1:10){\n",
    "            if(i >1)\n",
    "            classLevelsTotal[i] <- classLevelsTotal[i-1] + (which(run[1,i]==probs[1,]))\n",
    "            else\n",
    "            classLevelsTotal[i] <- which(run[1,i]==probs[1,])\n",
    "            classLevels[i] <- which(run[1,i]==probs[1,])\n",
    "        }\n",
    "        totalAttempts <- c(totalAttempts,count)\n",
    "        classlevels.allRuns <- c(classlevels.allRuns,classLevelsTotal[10])\n",
    "        win = FALSE\n",
    "      }\n",
    "    }\n",
    "\n",
    "}\n"
   ]
  },
  {
   "cell_type": "code",
   "execution_count": 141,
   "metadata": {
    "collapsed": false
   },
   "outputs": [
    {
     "data": {
      "text/html": [
       "<ol class=list-inline>\n",
       "\t<li>206666</li>\n",
       "\t<li>41.3249350129974</li>\n",
       "\t<li>4.55045010089945</li>\n",
       "</ol>\n"
      ],
      "text/latex": [
       "\\begin{enumerate*}\n",
       "\\item 206666\n",
       "\\item 41.3249350129974\n",
       "\\item 4.55045010089945\n",
       "\\end{enumerate*}\n"
      ],
      "text/markdown": [
       "1. 206666\n",
       "2. 41.3249350129974\n",
       "3. 4.55045010089945\n",
       "\n",
       "\n"
      ],
      "text/plain": [
       "[1] 206666.00000     41.32494      4.55045"
      ]
     },
     "execution_count": 141,
     "metadata": {},
     "output_type": "execute_result"
    },
    {
     "data": {
      "text/html": [
       "<ol class=list-inline>\n",
       "\t<li>6477581</li>\n",
       "\t<li>1295.25714857029</li>\n",
       "\t<li>1318.18675636701</li>\n",
       "</ol>\n"
      ],
      "text/latex": [
       "\\begin{enumerate*}\n",
       "\\item 6477581\n",
       "\\item 1295.25714857029\n",
       "\\item 1318.18675636701\n",
       "\\end{enumerate*}\n"
      ],
      "text/markdown": [
       "1. 6477581\n",
       "2. 1295.25714857029\n",
       "3. 1318.18675636701\n",
       "\n",
       "\n"
      ],
      "text/plain": [
       "[1] 6477581.000    1295.257    1318.187"
      ]
     },
     "execution_count": 141,
     "metadata": {},
     "output_type": "execute_result"
    }
   ],
   "source": [
    "c(sum(classlevels.allRuns),mean(classlevels.allRuns),sd(classlevels.allRuns))\n",
    "c(sum(totalAttempts), mean(totalAttempts), sd(totalAttempts))"
   ]
  },
  {
   "cell_type": "code",
   "execution_count": 142,
   "metadata": {
    "collapsed": false
   },
   "outputs": [],
   "source": [
    "# find first n successful runs with selecting a bad class first\n",
    "classlevels.allRuns <- 0\n",
    "totalAttempts <- 0\n",
    "for(j in 1:n){\n",
    "    win = TRUE\n",
    "    run <- NULL\n",
    "    count = 0\n",
    "    \n",
    "    while(win){\n",
    "      run <- sim(selectBadFirst)\n",
    "      count = count + 1\n",
    "      if(as.numeric(run[2,11]) >= 100){\n",
    "        classLevelsTotal <- NULL\n",
    "        classLevels <- NULL\n",
    "        for(i in 1:10){\n",
    "            if(i >1)\n",
    "            classLevelsTotal[i] <- classLevelsTotal[i-1] + (which(run[1,i]==probs[1,]))\n",
    "            else\n",
    "            classLevelsTotal[i] <- which(run[1,i]==probs[1,])\n",
    "            classLevels[i] <- which(run[1,i]==probs[1,])\n",
    "        }\n",
    "        totalAttempts <- c(totalAttempts,count)\n",
    "        classlevels.allRuns <- c(classlevels.allRuns,classLevelsTotal[10])\n",
    "        win = FALSE\n",
    "      }\n",
    "    }\n",
    "\n",
    "}\n"
   ]
  },
  {
   "cell_type": "code",
   "execution_count": 143,
   "metadata": {
    "collapsed": false
   },
   "outputs": [
    {
     "data": {
      "text/html": [
       "<ol class=list-inline>\n",
       "\t<li>210297</li>\n",
       "\t<li>42.0509898020396</li>\n",
       "\t<li>4.45084256294199</li>\n",
       "</ol>\n"
      ],
      "text/latex": [
       "\\begin{enumerate*}\n",
       "\\item 210297\n",
       "\\item 42.0509898020396\n",
       "\\item 4.45084256294199\n",
       "\\end{enumerate*}\n"
      ],
      "text/markdown": [
       "1. 210297\n",
       "2. 42.0509898020396\n",
       "3. 4.45084256294199\n",
       "\n",
       "\n"
      ],
      "text/plain": [
       "[1] 2.102970e+05 4.205099e+01 4.450843e+00"
      ]
     },
     "execution_count": 143,
     "metadata": {},
     "output_type": "execute_result"
    },
    {
     "data": {
      "text/html": [
       "<ol class=list-inline>\n",
       "\t<li>4337646</li>\n",
       "\t<li>867.355728854229</li>\n",
       "\t<li>869.796167864445</li>\n",
       "</ol>\n"
      ],
      "text/latex": [
       "\\begin{enumerate*}\n",
       "\\item 4337646\n",
       "\\item 867.355728854229\n",
       "\\item 869.796167864445\n",
       "\\end{enumerate*}\n"
      ],
      "text/markdown": [
       "1. 4337646\n",
       "2. 867.355728854229\n",
       "3. 869.796167864445\n",
       "\n",
       "\n"
      ],
      "text/plain": [
       "[1] 4337646.0000     867.3557     869.7962"
      ]
     },
     "execution_count": 143,
     "metadata": {},
     "output_type": "execute_result"
    }
   ],
   "source": [
    "c(sum(classlevels.allRuns),mean(classlevels.allRuns),sd(classlevels.allRuns))\n",
    "c(sum(totalAttempts), mean(totalAttempts), sd(totalAttempts))"
   ]
  },
  {
   "cell_type": "code",
   "execution_count": null,
   "metadata": {
    "collapsed": true
   },
   "outputs": [],
   "source": []
  }
 ],
 "metadata": {
  "kernelspec": {
   "display_name": "R",
   "language": "R",
   "name": "ir"
  },
  "language_info": {
   "codemirror_mode": "r",
   "file_extension": ".r",
   "mimetype": "text/x-r-source",
   "name": "R",
   "pygments_lexer": "r",
   "version": "3.2.2"
  }
 },
 "nbformat": 4,
 "nbformat_minor": 0
}
